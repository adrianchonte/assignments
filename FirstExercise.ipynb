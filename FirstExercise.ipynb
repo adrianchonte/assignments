{
 "cells": [
  {
   "cell_type": "code",
   "execution_count": null,
   "id": "1438ed87-36f9-4d08-bef0-19b5ca8d92d1",
   "metadata": {},
   "outputs": [],
   "source": [
    "# Introduction to Python - Practice Exercise\n",
    "\n",
    "# Task 1: Variable Declaration and Data Types\n",
    "# Declare variables of different types and print their values and types\n",
    "\n",
    "# Task 2: String Manipulation\n",
    "# Create a string variable and use at least 3 different string methods on it\n",
    "\n",
    "# Task 3: Basic Operations\n",
    "# Perform arithmetic, comparison, and logical operations with variables\n",
    "\n",
    "# Task 5: Expression Combination\n",
    "# Write an expression that combines multiple operations and variables"
   ]
  },
  {
   "cell_type": "code",
   "execution_count": null,
   "id": "95fc571d-188a-4f30-b73e-365dc7d19876",
   "metadata": {},
   "outputs": [],
   "source": [
    "#Task 1\n",
    "number_of_dogs = 1\n",
    "breed_of_dog = \"Belgian Malinois\"\n",
    "age_of_dog = 10.75"
   ]
  },
  {
   "cell_type": "code",
   "execution_count": null,
   "id": "ada045d5-ab54-4283-9aeb-f25d58a76f74",
   "metadata": {},
   "outputs": [],
   "source": [
    "print(number_of_dogs, breed_of_dog, age_of_dog)"
   ]
  },
  {
   "cell_type": "code",
   "execution_count": null,
   "id": "06ebe928-d375-4419-9c9c-04bacee6ef7b",
   "metadata": {},
   "outputs": [],
   "source": [
    "print(type(number_of_dogs))\n",
    "print(type(breed_of_dog))\n",
    "print(type(age_of_dog))"
   ]
  },
  {
   "cell_type": "code",
   "execution_count": null,
   "id": "c16a1627-6bdb-4969-a5c3-06b301e4909c",
   "metadata": {},
   "outputs": [],
   "source": [
    "dog_DOB = \"August 1 2014\""
   ]
  },
  {
   "cell_type": "code",
   "execution_count": null,
   "id": "827e77bf-010c-4179-838f-d6ac296f482f",
   "metadata": {},
   "outputs": [],
   "source": [
    "print(dog_DOB)"
   ]
  },
  {
   "cell_type": "code",
   "execution_count": null,
   "id": "9a0a4a71-50f1-4aa8-80ae-92efa070d0a4",
   "metadata": {},
   "outputs": [],
   "source": [
    "print(type(dog_DOB))"
   ]
  },
  {
   "cell_type": "code",
   "execution_count": null,
   "id": "7d2897c4-3db4-46d4-b1df-182316f37329",
   "metadata": {},
   "outputs": [],
   "source": [
    "#Task 2 String Manipulation\n",
    "dog_name = 'arko'\n",
    "dog_job = \"attack and retrieve\""
   ]
  },
  {
   "cell_type": "code",
   "execution_count": null,
   "id": "d62a2ede-bd3a-4624-b0b9-50581eaa4b46",
   "metadata": {},
   "outputs": [],
   "source": [
    "print(dog_name.capitalize())"
   ]
  },
  {
   "cell_type": "code",
   "execution_count": null,
   "id": "b58f4474-353c-4d6b-9aa6-f92eab7da85c",
   "metadata": {},
   "outputs": [],
   "source": [
    "print(dog_name.upper())"
   ]
  },
  {
   "cell_type": "code",
   "execution_count": null,
   "id": "9576fc32-c65a-4431-a44b-797f8c6a10c3",
   "metadata": {},
   "outputs": [],
   "source": [
    "print(dog_job.count('a'))"
   ]
  },
  {
   "cell_type": "code",
   "execution_count": null,
   "id": "5df9e8c0-9c7b-4c5b-852c-9cdb52fb3989",
   "metadata": {},
   "outputs": [],
   "source": [
    "print(dog_job.find('v'))"
   ]
  },
  {
   "cell_type": "code",
   "execution_count": null,
   "id": "51466c5c-572a-4361-8863-2dfc9c897d0b",
   "metadata": {},
   "outputs": [],
   "source": [
    "print(dog_name.swapcase())"
   ]
  },
  {
   "cell_type": "code",
   "execution_count": null,
   "id": "8dfe8f27-eb17-40d7-954f-7e39e7027b95",
   "metadata": {},
   "outputs": [],
   "source": [
    "dog_name = 'ArKo'"
   ]
  },
  {
   "cell_type": "code",
   "execution_count": null,
   "id": "348f4055-9f86-47ca-85f8-95cb3a96950d",
   "metadata": {},
   "outputs": [],
   "source": [
    "print(dog_name.swapcase())"
   ]
  },
  {
   "cell_type": "code",
   "execution_count": null,
   "id": "31e42c4c-9337-4649-9603-5fce3a013dfa",
   "metadata": {},
   "outputs": [],
   "source": [
    "print(dog_job.title())"
   ]
  },
  {
   "cell_type": "code",
   "execution_count": null,
   "id": "358a0463-9404-4be5-b836-6b38aeef2ead",
   "metadata": {},
   "outputs": [],
   "source": [
    "print(dog_job.endswith('t'))"
   ]
  },
  {
   "cell_type": "code",
   "execution_count": null,
   "id": "8f530798-06bb-4507-9b88-5633842f59e1",
   "metadata": {},
   "outputs": [],
   "source": [
    "#Task 3\n",
    "x=3\n",
    "y=7"
   ]
  },
  {
   "cell_type": "code",
   "execution_count": null,
   "id": "acde62fd-5087-4679-841c-739961126516",
   "metadata": {},
   "outputs": [],
   "source": [
    "print(x*y)"
   ]
  },
  {
   "cell_type": "code",
   "execution_count": null,
   "id": "f9a54136-50ed-4ccf-9c88-b920f23bf537",
   "metadata": {},
   "outputs": [],
   "source": [
    "print(x-y)"
   ]
  },
  {
   "cell_type": "code",
   "execution_count": null,
   "id": "89c1e544-99ed-405e-8f32-199d9d926265",
   "metadata": {},
   "outputs": [],
   "source": [
    "print(x*y/3)"
   ]
  },
  {
   "cell_type": "code",
   "execution_count": null,
   "id": "9d578d71-66b6-4a0f-9c50-c310f5f89f1a",
   "metadata": {},
   "outputs": [],
   "source": [
    "print(x==y)"
   ]
  },
  {
   "cell_type": "code",
   "execution_count": null,
   "id": "278e49ab-ebbd-4470-a11e-64b125a5df93",
   "metadata": {},
   "outputs": [],
   "source": [
    "print(3+4)"
   ]
  },
  {
   "cell_type": "code",
   "execution_count": null,
   "id": "e7587eda-1c02-4cd3-9f8b-331f1d2023f7",
   "metadata": {},
   "outputs": [],
   "source": [
    "dogs = 2\n",
    "rooms = 2"
   ]
  },
  {
   "cell_type": "code",
   "execution_count": null,
   "id": "99554d8d-b6d9-4f21-aba8-51082341b9fb",
   "metadata": {},
   "outputs": [],
   "source": [
    "dogs > rooms"
   ]
  },
  {
   "cell_type": "code",
   "execution_count": null,
   "id": "971c4528-f1ab-473f-9ed4-657a3be1329f",
   "metadata": {},
   "outputs": [],
   "source": [
    "rooms > dogs"
   ]
  },
  {
   "cell_type": "code",
   "execution_count": null,
   "id": "849c84fa-9292-4642-bcb6-7cba6c0dabf8",
   "metadata": {},
   "outputs": [],
   "source": [
    "rooms == dogs"
   ]
  },
  {
   "cell_type": "code",
   "execution_count": null,
   "id": "ccd72a2f-6564-49c7-a0a6-c2e337e335f7",
   "metadata": {},
   "outputs": [],
   "source": []
  }
 ],
 "metadata": {
  "kernelspec": {
   "display_name": "Python 3 (ipykernel)",
   "language": "python",
   "name": "python3"
  },
  "language_info": {
   "codemirror_mode": {
    "name": "ipython",
    "version": 3
   },
   "file_extension": ".py",
   "mimetype": "text/x-python",
   "name": "python",
   "nbconvert_exporter": "python",
   "pygments_lexer": "ipython3",
   "version": "3.13.2"
  }
 },
 "nbformat": 4,
 "nbformat_minor": 5
}
